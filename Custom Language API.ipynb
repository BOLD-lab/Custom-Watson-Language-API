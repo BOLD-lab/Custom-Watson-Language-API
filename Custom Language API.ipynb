{
 "cells": [
  {
   "cell_type": "markdown",
   "metadata": {},
   "source": [
    "# Watson Studio Language Translator - Basics & Custom Models\n",
    "\n",
    "Examples of using the IBM Watson Translation API, made by\n",
    "- **Stephanie Wagenaar** BOLD.lab\n",
    "- **Willem Hendriks** IBM / BOLD.lab\n",
    "\n",
    "1. Basic authentication & Testing\n",
    "2. Customize Models\n",
    "\n",
    "\n",
    "### API Documentation\n",
    "\n",
    "https://cloud.ibm.com/apidocs/language-translator\n",
    "\n",
    "## From the Documentation\n",
    "\n",
    "We can read from the [documentation](https://cloud.ibm.com/docs/language-translator?topic=language-translator-customizing);\n",
    "\n",
    "To create a model that is customized with **both parallel corpora and a forced glossary**, proceed in two steps:\n",
    "\n",
    "1. Customize with at least one parallel corpus file. You can upload multiple parallel corpus files with a single request. To successfully train with parallel corpora, all corpus files combined must contain at least 5000 parallel sentences. The cumulative size of all uploaded corpus files for a custom model is limited to 250 MB.\n",
    "2. Customize the resulting model with a forced glossary. You can upload a single forced glossary file for a custom model. The size of a forced glossary for a custom model is limited to 10 MB.\n",
    "\n",
    "You can store a maximum of 10 custom models for each language pair in a service instance.\n",
    "\n",
    "---\n",
    "\n",
    "\n",
    "## Get the service credentials and store them in `credentials` dict\n",
    "\n",
    "### Fetch your credentials for the Watson API Translation service\n",
    "\n",
    "1. https://cloud.ibm.com/resources\n",
    "2. Find the **Language Translator** in the **Services** list\n",
    "3. From **Service credentials** copy paste the JSON holding the credentials and store them in `credentials` e.g.\n",
    "\n",
    "```\n",
    "credentials = {\n",
    "  \"apikey\": \"XXXXXXXX-XXXXXXXXXXXXX-XXXXXXXXXXXXXXXXX\",\n",
    "  \"iam_apikey_description\": \"Auto-generated for key XXXXXXXX-XXXXXXXXXXXXX-XXXXXXXXXXXXXXXXX\",\n",
    "  \"iam_apikey_name\": \"Auto-generated service credentials\",\n",
    "  \"iam_role_crn\": \"crn:v1:bluemix:public:iam::::serviceRole:Manager\",\n",
    "  \"iam_serviceid_crn\": \"crn:v1:bluemix:public:iam-identity::a/a126878c4ab9a3456456456451cf2081b8::serviceid:XXXXXXXX-XXXXXXXXXXXXX-XXXXXXXXXXXXXXXXX\",\n",
    "  \"url\": \"https://api.us-south.language-translator.watson.cloud.ibm.com/instances/XXXXXXXX-XXXXXXXXXXXXX-XXXXXXXXXXXXXXXXX\"\n",
    "}\n",
    "```"
   ]
  },
  {
   "cell_type": "code",
   "execution_count": null,
   "metadata": {},
   "outputs": [],
   "source": [
    "credentials = {\n",
    "  \"apikey\": \"XXXXXXXX-XXXXXXXXXXXXX-XXXXXXXXXXXXXXXXX\",\n",
    "  \"iam_apikey_description\": \"Auto-generated for key XXXXXXXX-XXXXXXXXXXXXX-XXXXXXXXXXXXXXXXX\",\n",
    "  \"iam_apikey_name\": \"Auto-generated service credentials\",\n",
    "  \"iam_role_crn\": \"crn:v1:bluemix:public:iam::::serviceRole:Manager\",\n",
    "  \"iam_serviceid_crn\": \"crn:v1:bluemix:public:iam-identity::a/a126878c4ab9a3456456456451cf2081b8::serviceid:XXXXXXXX-XXXXXXXXXXXXX-XXXXXXXXXXXXXXXXX\",\n",
    "  \"url\": \"https://api.us-south.language-translator.watson.cloud.ibm.com/instances/XXXXXXXX-XXXXXXXXXXXXX-XXXXXXXXXXXXXXXXX\"\n",
    "}"
   ]
  },
  {
   "cell_type": "markdown",
   "metadata": {},
   "source": [
    "## 1. Basic Test Authenticate & Translate Sample Sentences\n",
    "\n"
   ]
  },
  {
   "cell_type": "code",
   "execution_count": null,
   "metadata": {},
   "outputs": [],
   "source": [
    "data = {'text' : ['Hello Michael Bachrach', 'Hello, World', \"How Are you?\" ,  'YoYo Kenneth Mcclanahan', 'Supermarket', \"where is the bank\"], 'model_id' : '6c08c11b-36b4-4058-a3e4-7f71a8cfc669'}"
   ]
  },
  {
   "cell_type": "code",
   "execution_count": null,
   "metadata": {},
   "outputs": [],
   "source": [
    "import requests\n",
    "\n",
    "headers = {\n",
    "    'Content-Type': 'application/json',\n",
    "}\n",
    "\n",
    "params = (\n",
    "    ('version', '2018-05-01'),\n",
    ")"
   ]
  },
  {
   "cell_type": "code",
   "execution_count": null,
   "metadata": {},
   "outputs": [],
   "source": [
    "response = requests.post('{url}/v3/translate'.format(**credentials), headers=headers, params=params, json=data, auth=('apikey', '{apikey}'.format(**credentials)))\n"
   ]
  },
  {
   "cell_type": "code",
   "execution_count": null,
   "metadata": {},
   "outputs": [],
   "source": [
    "response.json()"
   ]
  },
  {
   "cell_type": "markdown",
   "metadata": {},
   "source": [
    "## 2. List all Models - default & customized\n",
    "\n",
    "The following cells will list all models "
   ]
  },
  {
   "cell_type": "code",
   "execution_count": null,
   "metadata": {},
   "outputs": [],
   "source": [
    "response = requests.get('{url}/v3/models'.format(**credentials),  params=params, auth=('apikey', '{apikey}'.format(**credentials)))"
   ]
  },
  {
   "cell_type": "code",
   "execution_count": null,
   "metadata": {},
   "outputs": [],
   "source": [
    "# All Models\n",
    "response.json()"
   ]
  },
  {
   "cell_type": "code",
   "execution_count": null,
   "metadata": {},
   "outputs": [],
   "source": [
    "# Print all NONE default model, the customized models - including training status\n",
    "\n",
    "for resp in response.json()['models']:\n",
    "    if resp['default_model'] == False:\n",
    "        print(resp)"
   ]
  },
  {
   "cell_type": "markdown",
   "metadata": {},
   "source": [
    "## 3. Create Custom Model -  `parallel_corpus`\n",
    "\n",
    "The [API](https://cloud.ibm.com/docs/language-translator?topic=language-translator-customizing) describes the `--form` parameter to add custom dictionaries, which can be done with `requests` in python, as described on\n",
    "\n",
    "https://stackoverflow.com/questions/42215356/convert-curl-with-form-to-python-requests\n",
    "\n",
    "- we use `names` to generate names\n",
    "- we create a `.csv` to be used as corpus\n",
    "- resulting model_id could be used to later add a `forced_glossary` on"
   ]
  },
  {
   "cell_type": "code",
   "execution_count": null,
   "metadata": {},
   "outputs": [],
   "source": [
    "%%capture pip_install\n",
    "!pip install names"
   ]
  },
  {
   "cell_type": "code",
   "execution_count": null,
   "metadata": {},
   "outputs": [],
   "source": [
    "import names"
   ]
  },
  {
   "cell_type": "code",
   "execution_count": null,
   "metadata": {},
   "outputs": [],
   "source": [
    "import random\n",
    "import uuid\n",
    "\n",
    "\n",
    "with open('parallel_corpus.csv', 'w') as outfile:\n",
    "    outfile.write( \"en,es\\n\" )\n",
    "    for _ in range(5005):\n",
    "        random_name = names.get_full_name()\n",
    "        outfile.write(\"YoYo {},\".format(random_name))\n",
    "        outfile.write(\"YososYoses {}\\n\".format(random_name))"
   ]
  },
  {
   "cell_type": "markdown",
   "metadata": {},
   "source": [
    "### Test the Parallel Corpus"
   ]
  },
  {
   "cell_type": "code",
   "execution_count": null,
   "metadata": {},
   "outputs": [],
   "source": [
    "!head parallel_corpus.csv"
   ]
  },
  {
   "cell_type": "code",
   "execution_count": null,
   "metadata": {},
   "outputs": [],
   "source": [
    "import requests\n",
    "\n",
    "params = (\n",
    "    ('version', '2018-05-01'),\n",
    "    ('base_model_id', 'en-es'),\n",
    "    ('name', 'custom_model_v10'),\n",
    ")\n",
    "\n",
    "headers = {\n",
    "    'Content-Type': 'text/csv',\n",
    "}\n",
    "\n",
    "test_files = [(\"parallel_corpus\", open(\"parallel_corpus.csv\", \"rb\"))]"
   ]
  },
  {
   "cell_type": "code",
   "execution_count": null,
   "metadata": {},
   "outputs": [],
   "source": [
    "response = requests.post('{url}/v3/models'.format(**credentials), params=params, files=test_files, json=data, auth=('apikey', '{apikey}'.format(**credentials))) "
   ]
  },
  {
   "cell_type": "code",
   "execution_count": null,
   "metadata": {},
   "outputs": [],
   "source": [
    "custom_corpus_model = response.json()"
   ]
  },
  {
   "cell_type": "markdown",
   "metadata": {},
   "source": [
    "## If the response will show `'status': 'dispatching'` your model is being trained"
   ]
  },
  {
   "cell_type": "code",
   "execution_count": null,
   "metadata": {},
   "outputs": [],
   "source": [
    "custom_corpus_model"
   ]
  },
  {
   "cell_type": "markdown",
   "metadata": {},
   "source": [
    "### Test the Parallel Corpus Model - Note YoYo is translated correct"
   ]
  },
  {
   "cell_type": "code",
   "execution_count": null,
   "metadata": {},
   "outputs": [],
   "source": [
    "data = {'text' : ['YoYo Kenneth Mcclanahan', 'Hello, World', \"How Are you?\" ,  'Supermarket', \"where is the bank\"], 'model_id' : '7a105127-0c86-465a-9831-4fd3d7499380'}"
   ]
  },
  {
   "cell_type": "code",
   "execution_count": null,
   "metadata": {},
   "outputs": [],
   "source": [
    "import requests\n",
    "\n",
    "headers = {\n",
    "    'Content-Type': 'application/json',\n",
    "}\n",
    "\n",
    "params = (\n",
    "    ('version', '2018-05-01'),\n",
    ")"
   ]
  },
  {
   "cell_type": "code",
   "execution_count": null,
   "metadata": {},
   "outputs": [],
   "source": [
    "response = requests.post('{url}/v3/translate'.format(**credentials), headers=headers, params=params, json=data, auth=('apikey', '{apikey}'.format(**credentials)))\n"
   ]
  },
  {
   "cell_type": "code",
   "execution_count": null,
   "metadata": {},
   "outputs": [],
   "source": [
    "response.json()"
   ]
  },
  {
   "cell_type": "markdown",
   "metadata": {},
   "source": [
    "## 4. Create Custom Model -  `forced_glossary`\n",
    "\n",
    "The [API](https://cloud.ibm.com/docs/language-translator?topic=language-translator-customizing) describes the `--form` parameter to add custom dictionaries, which can be done with `requests` in python, as described on\n",
    "\n",
    "https://stackoverflow.com/questions/42215356/convert-curl-with-form-to-python-requests"
   ]
  },
  {
   "cell_type": "code",
   "execution_count": null,
   "metadata": {},
   "outputs": [],
   "source": [
    "!echo \"en,es\" > custom.csv\n",
    "!echo \"hi,olaaaa\" >> custom.csv\n",
    "!echo \"mexico,meggiko\" >> custom.csv"
   ]
  },
  {
   "cell_type": "code",
   "execution_count": null,
   "metadata": {},
   "outputs": [],
   "source": [
    "!cat custom.csv"
   ]
  },
  {
   "cell_type": "markdown",
   "metadata": {},
   "source": [
    "## 5. Change the `base_model_id` to either 'en-es' or similar, or a previous generated custom model id"
   ]
  },
  {
   "cell_type": "code",
   "execution_count": null,
   "metadata": {},
   "outputs": [],
   "source": [
    "import requests\n",
    "\n",
    "params = (\n",
    "    ('version', '2018-05-01'),\n",
    "    ('base_model_id', 'es-en'),\n",
    "    ('name', 'custom_model'),\n",
    ")\n",
    "\n",
    "headers = {\n",
    "    'Content-Type': 'text/csv',\n",
    "}\n",
    "\n",
    "test_files = [(\"forced_glossary\", open(\"custom.csv\", \"rb\"))]\n"
   ]
  },
  {
   "cell_type": "code",
   "execution_count": null,
   "metadata": {},
   "outputs": [],
   "source": [
    "response = requests.post('{url}/v3/models'.format(**credentials), params=params, files=test_files, json=data, auth=('apikey', '{apikey}'.format(**credentials))) "
   ]
  },
  {
   "cell_type": "code",
   "execution_count": null,
   "metadata": {},
   "outputs": [],
   "source": [
    "response.json()['model_id']"
   ]
  },
  {
   "cell_type": "code",
   "execution_count": null,
   "metadata": {},
   "outputs": [],
   "source": [
    "response.json()"
   ]
  }
 ],
 "metadata": {
  "kernelspec": {
   "display_name": "Python 3.7",
   "language": "python",
   "name": "python3"
  },
  "language_info": {
   "codemirror_mode": {
    "name": "ipython",
    "version": 3
   },
   "file_extension": ".py",
   "mimetype": "text/x-python",
   "name": "python",
   "nbconvert_exporter": "python",
   "pygments_lexer": "ipython3",
   "version": "3.7.10"
  }
 },
 "nbformat": 4,
 "nbformat_minor": 1
}
